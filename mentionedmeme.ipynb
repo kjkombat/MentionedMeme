{
 "cells": [
  {
   "cell_type": "code",
   "execution_count": 17,
   "metadata": {},
   "outputs": [],
   "source": [
    "import cv2\n",
    "import numpy as np\n",
    "from PIL import Image\n",
    "import matplotlib.pyplot as plt\n",
    "\n",
    "def load_image(image_path):\n",
    "    try:\n",
    "        image = Image.open(image_path)\n",
    "\n",
    "        image = np.array(image)\n",
    "        if len(image.shape) == 3 and image.shape[2] == 4:\n",
    "            # image = cv2.cvtColor(image, cv2.COlOR_RGB2BGR)\n",
    "            #swap RGB to BGR while preserviing alpha channel.\n",
    "            image = image[:,:,[2,1,0,3]]\n",
    "        return image\n",
    "    except Exception as e:\n",
    "        print(\"error loading image \" + image_path)\n",
    "        raise e\n",
    "    \n",
    "def overlay_image(source, overlay, x_start,x_end,y_start,y_end):\n",
    "    result = source.copy()\n",
    "\n",
    "    target_height = y_end-y_start\n",
    "    target_width = x_end-x_start\n",
    "\n",
    "    resized_overlay = calc_dim_resize(overlay,target_height,target_width)\n",
    "    print(f\"resized_overlay shape: {resized_overlay.shape}\")\n",
    "    print(f\"source shape: {source.shape}\")\n",
    "\n",
    "    if resized_overlay.shape[-1] == 4:  # Overlay has alpha channel\n",
    "           overlay_bgr = resized_overlay[:, :, :3]\n",
    "           overlay_alpha = resized_overlay[:, :, 3] / 255.0\n",
    "    else:  # Overlay doesn't have alpha channel\n",
    "        overlay_bgr = resized_overlay\n",
    "        overlay_alpha = np.ones((target_height, target_width))\n",
    "        \n",
    "    # Get source alpha\n",
    "    background_alpha = source[y_start:y_end, x_start:x_end, 3] / 255.0\n",
    "    \n",
    "    # Blend the images considering both alpha channels\n",
    "    for c in range(3):  # Process BGR channels\n",
    "        result[y_start:y_end, x_start:x_end, c] = \\\n",
    "            (1 - overlay_alpha) * source[y_start:y_end, x_start:x_end, c] + \\\n",
    "            overlay_alpha * overlay_bgr[:, :, c]\n",
    "    \n",
    "    # Compute final alpha channel\n",
    "    result[y_start:y_end, x_start:x_end, 3] = \\\n",
    "    (overlay_alpha + background_alpha * (1 - overlay_alpha)) * 255\n",
    "        \n",
    "    return result\n",
    "\n",
    "def display_image(image):\n",
    "    plt.figure(figsize=(10,8))\n",
    "    plt.imshow(image)\n",
    "    plt.axis('off')\n",
    "    plt.show()\n",
    "\n",
    "def calc_dim_resize(image, target_height,target_width):\n",
    "    resized_image = cv2.resize(image, (target_height,target_width))\n",
    "    return resized_image"
   ]
  },
  {
   "cell_type": "code",
   "execution_count": 18,
   "metadata": {},
   "outputs": [
    {
     "name": "stdout",
     "output_type": "stream",
     "text": [
      "resized_overlay shape: (60, 172, 3)\n",
      "source shape: (499, 504, 4)\n"
     ]
    },
    {
     "ename": "ValueError",
     "evalue": "operands could not be broadcast together with shapes (172,60) (60,172) ",
     "output_type": "error",
     "traceback": [
      "\u001b[1;31m---------------------------------------------------------------------------\u001b[0m",
      "\u001b[1;31mValueError\u001b[0m                                Traceback (most recent call last)",
      "Cell \u001b[1;32mIn[18], line 10\u001b[0m\n\u001b[0;32m      7\u001b[0m y_start , y_end \u001b[38;5;241m=\u001b[39m \u001b[38;5;241m2\u001b[39m, \u001b[38;5;241m62\u001b[39m\n\u001b[0;32m      8\u001b[0m x_start , x_end \u001b[38;5;241m=\u001b[39m \u001b[38;5;241m158\u001b[39m, \u001b[38;5;241m330\u001b[39m\n\u001b[1;32m---> 10\u001b[0m result \u001b[38;5;241m=\u001b[39m \u001b[43moverlay_image\u001b[49m\u001b[43m(\u001b[49m\u001b[43msource\u001b[49m\u001b[43m,\u001b[49m\u001b[43m \u001b[49m\u001b[43moverlay\u001b[49m\u001b[43m,\u001b[49m\u001b[43my_start\u001b[49m\u001b[43m \u001b[49m\u001b[43m,\u001b[49m\u001b[43m \u001b[49m\u001b[43my_end\u001b[49m\u001b[43m,\u001b[49m\u001b[43mx_start\u001b[49m\u001b[43m \u001b[49m\u001b[43m,\u001b[49m\u001b[43m \u001b[49m\u001b[43mx_end\u001b[49m\u001b[43m \u001b[49m\u001b[43m)\u001b[49m\n\u001b[0;32m     12\u001b[0m display_image(result)\n",
      "Cell \u001b[1;32mIn[17], line 44\u001b[0m, in \u001b[0;36moverlay_image\u001b[1;34m(source, overlay, x_start, x_end, y_start, y_end)\u001b[0m\n\u001b[0;32m     40\u001b[0m \u001b[38;5;66;03m# Blend the images considering both alpha channels\u001b[39;00m\n\u001b[0;32m     41\u001b[0m \u001b[38;5;28;01mfor\u001b[39;00m c \u001b[38;5;129;01min\u001b[39;00m \u001b[38;5;28mrange\u001b[39m(\u001b[38;5;241m3\u001b[39m):  \u001b[38;5;66;03m# Process BGR channels\u001b[39;00m\n\u001b[0;32m     42\u001b[0m     result[y_start:y_end, x_start:x_end, c] \u001b[38;5;241m=\u001b[39m \\\n\u001b[0;32m     43\u001b[0m         (\u001b[38;5;241m1\u001b[39m \u001b[38;5;241m-\u001b[39m overlay_alpha) \u001b[38;5;241m*\u001b[39m source[y_start:y_end, x_start:x_end, c] \u001b[38;5;241m+\u001b[39m \\\n\u001b[1;32m---> 44\u001b[0m         \u001b[43moverlay_alpha\u001b[49m\u001b[43m \u001b[49m\u001b[38;5;241;43m*\u001b[39;49m\u001b[43m \u001b[49m\u001b[43moverlay_bgr\u001b[49m\u001b[43m[\u001b[49m\u001b[43m:\u001b[49m\u001b[43m,\u001b[49m\u001b[43m \u001b[49m\u001b[43m:\u001b[49m\u001b[43m,\u001b[49m\u001b[43m \u001b[49m\u001b[43mc\u001b[49m\u001b[43m]\u001b[49m\n\u001b[0;32m     46\u001b[0m \u001b[38;5;66;03m# Compute final alpha channel\u001b[39;00m\n\u001b[0;32m     47\u001b[0m result[y_start:y_end, x_start:x_end, \u001b[38;5;241m3\u001b[39m] \u001b[38;5;241m=\u001b[39m \\\n\u001b[0;32m     48\u001b[0m (overlay_alpha \u001b[38;5;241m+\u001b[39m background_alpha \u001b[38;5;241m*\u001b[39m (\u001b[38;5;241m1\u001b[39m \u001b[38;5;241m-\u001b[39m overlay_alpha)) \u001b[38;5;241m*\u001b[39m \u001b[38;5;241m255\u001b[39m\n",
      "\u001b[1;31mValueError\u001b[0m: operands could not be broadcast together with shapes (172,60) (60,172) "
     ]
    }
   ],
   "source": [
    "image_path = 'images/source_pic.png'\n",
    "overlay_path = 'images/texas-cap.JPG'\n",
    "\n",
    "source = load_image(image_path)\n",
    "overlay = load_image(overlay_path)\n",
    "\n",
    "y_start , y_end = 2, 62\n",
    "x_start , x_end = 158, 330\n",
    "\n",
    "result = overlay_image(source, overlay,y_start , y_end,x_start , x_end )\n",
    "\n",
    "display_image(result)"
   ]
  }
 ],
 "metadata": {
  "kernelspec": {
   "display_name": "mentionedmeme",
   "language": "python",
   "name": "python3"
  },
  "language_info": {
   "codemirror_mode": {
    "name": "ipython",
    "version": 3
   },
   "file_extension": ".py",
   "mimetype": "text/x-python",
   "name": "python",
   "nbconvert_exporter": "python",
   "pygments_lexer": "ipython3",
   "version": "3.12.9"
  }
 },
 "nbformat": 4,
 "nbformat_minor": 2
}
